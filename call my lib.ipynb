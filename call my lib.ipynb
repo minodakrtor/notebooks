{
  "metadata": {
    "kernelspec": {
      "display_name": "Python 2",
      "name": "python2",
      "language": "python"
    },
    "language_info": {
      "mimetype": "text/x-python",
      "nbconvert_exporter": "python",
      "version": "2.7.16",
      "name": "python",
      "pygments_lexer": "ipython2",
      "file_extension": ".py",
      "codemirror_mode": {
        "version": 2,
        "name": "ipython"
      }
    },
    "tags": [],
    "modifiedBy": "admin",
    "customFields": {},
    "creator": "admin"
  },
  "nbformat": 4,
  "nbformat_minor": 1,
  "cells": [
    {
      "execution_count": 0,
      "cell_type": "code",
      "metadata": {},
      "source": [
        "%pylab inline"
      ],
      "outputs": []
    },
    {
      "execution_count": 20,
      "cell_type": "code",
      "metadata": {},
      "source": [
        "import dataiku\nfrom dataiku import pandasutils as pdu\nimport pandas as pd\nfrom myfunctions import create_target"
      ],
      "outputs": []
    },
    {
      "execution_count": 21,
      "cell_type": "code",
      "metadata": {},
      "source": [
        "customers_data_joined \u003d dataiku.Dataset(\"customers_data_joined\")\ndf \u003d customers_data_joined.get_dataframe()"
      ],
      "outputs": []
    },
    {
      "execution_count": 24,
      "cell_type": "code",
      "metadata": {},
      "source": [
        "ds \u003d dataiku.Dataset(\u0027prices_prepared\u0027)\nhistory \u003d ds.get_metric_history(\u0027records:COUNT_RECORDS\u0027)\nlast_value \u003d history.get(\u0027lastValue\u0027).get(\u0027value\u0027)\nprevious_value \u003d history.get(\u0027values\u0027)[-2].get(\u0027value\u0027)"
      ],
      "outputs": []
    },
    {
      "execution_count": 29,
      "cell_type": "code",
      "metadata": {},
      "source": [
        "previ\n"
      ],
      "outputs": [
        {
          "execution_count": 29,
          "metadata": {},
          "data": {
            "text/plain": "34237"
          },
          "output_type": "execute_result"
        }
      ]
    },
    {
      "execution_count": 22,
      "cell_type": "code",
      "metadata": {},
      "source": [
        "df[\u0027target\u0027]\u003ddf.apply(create_target,axis\u003d1)"
      ],
      "outputs": []
    },
    {
      "execution_count": 7,
      "cell_type": "code",
      "metadata": {},
      "source": [
        "df.head()"
      ],
      "outputs": [
        {
          "execution_count": 7,
          "metadata": {},
          "data": {
            "text/html": "\n            \u003cbutton style\u003d\"display:none\" \n            class\u003d\"btn btn-default ipython-export-btn\" \n            id\u003d\"btn-df-dd19459c-5742-450f-ae85-e47bab584e67\" \n            onclick\u003d\"_export_df(\u0027dd19459c-5742-450f-ae85-e47bab584e67\u0027)\"\u003e\n                Export dataframe\n            \u003c/button\u003e\n            \n            \u003cscript\u003e\n                \n                function _check_export_df_possible(dfid,yes_fn,no_fn) {\n                    console.log(\u0027Checking dataframe exportability...\u0027)\n                    if(!IPython || !IPython.notebook || !IPython.notebook.kernel || !IPython.notebook.kernel) {\n                        console.log(\u0027Export is not possible (IPython kernel is not available)\u0027)\n                        if(no_fn) {\n                            no_fn();\n                        }\n                    } else {\n                        var pythonCode \u003d \u0027from dataiku.notebook.export import IPythonExporter;IPythonExporter._check_export_stdout(\"\u0027+dfid+\u0027\")\u0027;\n                        IPython.notebook.kernel.execute(pythonCode,{iopub: {output: function(resp) {\n                            console.info(\"Exportability response\", resp);\n                            var size \u003d /^([0-9]+)x([0-9]+)$/.exec(resp.content.data || resp.content.text)\n                            if(!size) {\n                                console.log(\u0027Export is not possible (dataframe is not in-memory anymore)\u0027)\n                                if(no_fn) {\n                                    no_fn();\n                                }\n                            } else {\n                                console.log(\u0027Export is possible\u0027)\n                                if(yes_fn) {\n                                    yes_fn(1*size[1],1*size[2]);\n                                }\n                            }\n                        }}});\n                    }\n                }\n            \n                function _export_df(dfid) {\n                    \n                    var btn \u003d $(\u0027#btn-df-\u0027+dfid);\n                    var btns \u003d $(\u0027.ipython-export-btn\u0027);\n                    \n                    _check_export_df_possible(dfid,function() {\n                        \n                        window.parent.openExportModalFromIPython(\u0027Pandas dataframe\u0027,function(data) {\n                            btns.prop(\u0027disabled\u0027,true);\n                            btn.text(\u0027Exporting...\u0027);\n                            var command \u003d \u0027from dataiku.notebook.export import IPythonExporter;IPythonExporter._run_export(\"\u0027+dfid+\u0027\",\"\u0027+data.exportId+\u0027\")\u0027;\n                            var callback \u003d {iopub:{output: function(resp) {\n                                console.info(\"CB resp:\", resp);\n                                _check_export_df_possible(dfid,function(rows, cols) {\n                                    $(\u0027#btn-df-\u0027+dfid)\n                                        .css(\u0027display\u0027,\u0027inline-block\u0027)\n                                        .text(\u0027Export this dataframe (\u0027+rows+\u0027 rows, \u0027+cols+\u0027 cols)\u0027)\n                                        .prop(\u0027disabled\u0027,false);\n                                },function() {\n                                    $(\u0027#btn-df-\u0027+dfid).css(\u0027display\u0027,\u0027none\u0027);\n                                });\n                            }}};\n                            IPython.notebook.kernel.execute(command,callback,{silent:false}); // yes, silent now defaults to true. figures.\n                        });\n                    \n                    }, function(){\n                            alert(\u0027Unable to export : the Dataframe object is not loaded in memory\u0027);\n                            btn.css(\u0027display\u0027,\u0027none\u0027);\n                    });\n                    \n                }\n                \n                (function(dfid) {\n                \n                    var retryCount \u003d 10;\n                \n                    function is_valid_websock(s) {\n                        return s \u0026\u0026 s.readyState\u003d\u003d1;\n                    }\n                \n                    function check_conn() {\n                        \n                        if(!IPython || !IPython.notebook) {\n                            // Don\u0027t even try to go further\n                            return;\n                        }\n                        \n                        // Check if IPython is ready\n                        console.info(\"Checking conn ...\")\n                        if(IPython.notebook.kernel\n                        \u0026\u0026 IPython.notebook.kernel\n                        \u0026\u0026 is_valid_websock(IPython.notebook.kernel.ws)\n                        ) {\n                            \n                            _check_export_df_possible(dfid,function(rows, cols) {\n                                $(\u0027#btn-df-\u0027+dfid).css(\u0027display\u0027,\u0027inline-block\u0027);\n                                $(\u0027#btn-df-\u0027+dfid).text(\u0027Export this dataframe (\u0027+rows+\u0027 rows, \u0027+cols+\u0027 cols)\u0027);\n                            });\n                            \n                        } else {\n                            console.info(\"Conditions are not ok\", IPython.notebook.kernel);\n                            \n                            // Retry later\n                            \n                            if(retryCount\u003e0) {\n                                setTimeout(check_conn,500);\n                                retryCount--;\n                            }\n                            \n                        }\n                    };\n                    \n                    setTimeout(check_conn,100);\n                    \n                })(\"dd19459c-5742-450f-ae85-e47bab584e67\");\n                \n            \u003c/script\u003e\n            \n        \u003cdiv\u003e\n\u003cstyle scoped\u003e\n    .dataframe tbody tr th:only-of-type {\n        vertical-align: middle;\n    }\n\n    .dataframe tbody tr th {\n        vertical-align: top;\n    }\n\n    .dataframe thead th {\n        text-align: right;\n    }\n\u003c/style\u003e\n\u003ctable border\u003d\"1\" class\u003d\"dataframe\"\u003e\n  \u003cthead\u003e\n    \u003ctr style\u003d\"text-align: right;\"\u003e\n      \u003cth\u003e\u003c/th\u003e\n      \u003cth\u003ecustomer_id\u003c/th\u003e\n      \u003cth\u003esince_birth_days\u003c/th\u003e\n      \u003cth\u003eprice_first_item_purchased\u003c/th\u003e\n      \u003cth\u003egender\u003c/th\u003e\n      \u003cth\u003erevenue\u003c/th\u003e\n      \u003cth\u003eoriginal_dataset\u003c/th\u003e\n      \u003cth\u003eip\u003c/th\u003e\n      \u003cth\u003eip_geopoint\u003c/th\u003e\n      \u003cth\u003eip_country_code\u003c/th\u003e\n      \u003cth\u003epages_visited\u003c/th\u003e\n      \u003cth\u003ecampain\u003c/th\u003e\n      \u003cth\u003eis_id_ends_d\u003c/th\u003e\n      \u003cth\u003etarget\u003c/th\u003e\n    \u003c/tr\u003e\n  \u003c/thead\u003e\n  \u003ctbody\u003e\n    \u003ctr\u003e\n      \u003cth\u003e0\u003c/th\u003e\n      \u003ctd\u003e041b77595d\u003c/td\u003e\n      \u003ctd\u003e33\u003c/td\u003e\n      \u003ctd\u003e22.0\u003c/td\u003e\n      \u003ctd\u003eM\u003c/td\u003e\n      \u003ctd\u003e171.0\u003c/td\u003e\n      \u003ctd\u003elast_year\u003c/td\u003e\n      \u003ctd\u003e108.124.56.200\u003c/td\u003e\n      \u003ctd\u003ePOINT(-97.822 37.751)\u003c/td\u003e\n      \u003ctd\u003eUS\u003c/td\u003e\n      \u003ctd\u003e2.0\u003c/td\u003e\n      \u003ctd\u003eFalse\u003c/td\u003e\n      \u003ctd\u003e1\u003c/td\u003e\n      \u003ctd\u003e1.0\u003c/td\u003e\n    \u003c/tr\u003e\n    \u003ctr\u003e\n      \u003cth\u003e1\u003c/th\u003e\n      \u003ctd\u003e10863d9892\u003c/td\u003e\n      \u003ctd\u003e41\u003c/td\u003e\n      \u003ctd\u003e44.0\u003c/td\u003e\n      \u003ctd\u003eM\u003c/td\u003e\n      \u003ctd\u003e156.0\u003c/td\u003e\n      \u003ctd\u003elast_year\u003c/td\u003e\n      \u003ctd\u003e85.58.51.243\u003c/td\u003e\n      \u003ctd\u003ePOINT(-3.7635 40.3272)\u003c/td\u003e\n      \u003ctd\u003eES\u003c/td\u003e\n      \u003ctd\u003e6.0\u003c/td\u003e\n      \u003ctd\u003eFalse\u003c/td\u003e\n      \u003ctd\u003e0\u003c/td\u003e\n      \u003ctd\u003e0.0\u003c/td\u003e\n    \u003c/tr\u003e\n    \u003ctr\u003e\n      \u003cth\u003e2\u003c/th\u003e\n      \u003ctd\u003ec92646d6b3\u003c/td\u003e\n      \u003ctd\u003e24\u003c/td\u003e\n      \u003ctd\u003e28.0\u003c/td\u003e\n      \u003ctd\u003eF\u003c/td\u003e\n      \u003ctd\u003e130.0\u003c/td\u003e\n      \u003ctd\u003elast_year\u003c/td\u003e\n      \u003ctd\u003e150.158.195.184\u003c/td\u003e\n      \u003ctd\u003ePOINT(116.3883 39.9289)\u003c/td\u003e\n      \u003ctd\u003eCN\u003c/td\u003e\n      \u003ctd\u003e5.0\u003c/td\u003e\n      \u003ctd\u003eTrue\u003c/td\u003e\n      \u003ctd\u003e0\u003c/td\u003e\n      \u003ctd\u003e0.0\u003c/td\u003e\n    \u003c/tr\u003e\n    \u003ctr\u003e\n      \u003cth\u003e3\u003c/th\u003e\n      \u003ctd\u003e9303a03ba8\u003c/td\u003e\n      \u003ctd\u003e45\u003c/td\u003e\n      \u003ctd\u003e22.0\u003c/td\u003e\n      \u003ctd\u003eM\u003c/td\u003e\n      \u003ctd\u003e165.0\u003c/td\u003e\n      \u003ctd\u003elast_year\u003c/td\u003e\n      \u003ctd\u003e66.243.143.64\u003c/td\u003e\n      \u003ctd\u003ePOINT(-97.822 37.751)\u003c/td\u003e\n      \u003ctd\u003eUS\u003c/td\u003e\n      \u003ctd\u003e6.0\u003c/td\u003e\n      \u003ctd\u003eFalse\u003c/td\u003e\n      \u003ctd\u003e0\u003c/td\u003e\n      \u003ctd\u003e0.0\u003c/td\u003e\n    \u003c/tr\u003e\n    \u003ctr\u003e\n      \u003cth\u003e4\u003c/th\u003e\n      \u003ctd\u003e0d73b6d6ef\u003c/td\u003e\n      \u003ctd\u003e36\u003c/td\u003e\n      \u003ctd\u003e42.0\u003c/td\u003e\n      \u003ctd\u003eF\u003c/td\u003e\n      \u003ctd\u003e157.0\u003c/td\u003e\n      \u003ctd\u003elast_year\u003c/td\u003e\n      \u003ctd\u003e95.122.27.107\u003c/td\u003e\n      \u003ctd\u003ePOINT(-5.5406 39.8916)\u003c/td\u003e\n      \u003ctd\u003eES\u003c/td\u003e\n      \u003ctd\u003e2.0\u003c/td\u003e\n      \u003ctd\u003eFalse\u003c/td\u003e\n      \u003ctd\u003e0\u003c/td\u003e\n      \u003ctd\u003e0.0\u003c/td\u003e\n    \u003c/tr\u003e\n  \u003c/tbody\u003e\n\u003c/table\u003e\n\u003c/div\u003e",
            "text/plain": "  customer_id  since_birth_days  price_first_item_purchased gender  revenue original_dataset               ip              ip_geopoint ip_country_code  pages_visited  campain  is_id_ends_d  target\n0  041b77595d                33                        22.0      M    171.0        last_year   108.124.56.200    POINT(-97.822 37.751)              US            2.0    False             1     1.0\n1  10863d9892                41                        44.0      M    156.0        last_year     85.58.51.243   POINT(-3.7635 40.3272)              ES            6.0    False             0     0.0\n2  c92646d6b3                24                        28.0      F    130.0        last_year  150.158.195.184  POINT(116.3883 39.9289)              CN            5.0     True             0     0.0\n3  9303a03ba8                45                        22.0      M    165.0        last_year    66.243.143.64    POINT(-97.822 37.751)              US            6.0    False             0     0.0\n4  0d73b6d6ef                36                        42.0      F    157.0        last_year    95.122.27.107   POINT(-5.5406 39.8916)              ES            2.0    False             0     0.0"
          },
          "output_type": "execute_result"
        }
      ]
    },
    {
      "execution_count": 9,
      "cell_type": "code",
      "metadata": {},
      "source": [
        "client \u003d dataiku.api_client()\n\n# client is now a DSSClient and can perform all authorized actions.\n# For example, list the project keys for which you have access\nclient.list_project_keys()"
      ],
      "outputs": [
        {
          "execution_count": 9,
          "metadata": {},
          "data": {
            "text/plain": "[u\u0027AA_PRJ\u0027,\n u\u0027ALTERYXBEVINVENTORY\u0027,\n u\u0027AVOCADOPRICES\u0027,\n u\u0027C2NEO4J2\u0027,\n u\u0027CERTTEST\u0027,\n u\u0027CITI_ANOM\u0027,\n u\u0027CLASSTEST\u0027,\n u\u0027CRIMEANDPUNISHMENT\u0027,\n u\u0027CUSTOMMODELEXPOSE\u0027,\n u\u0027DATALOAD_TEMP1\u0027,\n u\u0027DATAQUALITYPROFILING\u0027,\n u\u0027DATAUPLOAD\u0027,\n u\u0027DELOITTEQUESTIONS\u0027,\n u\u0027DELOITTETRAININGCODERS\u0027,\n u\u0027DKU_CHURN\u0027,\n u\u0027DKU_CUSTOMER_LIFETIME_VALUE\u0027,\n u\u0027DKU_PREDICTIVE_MAINTENANCE\u0027,\n u\u0027DKU_TUTORIAL_BASICS\u0027,\n u\u0027DKU_TUTORIAL_BASICS_2\u0027,\n u\u0027DKU_TUTORIAL_FIRSTPLUGIN\u0027,\n u\u0027DKU_TUTORIAL_WINDOW_RECIPE\u0027,\n u\u0027DKU_TUTORIAL_WINDOW_RECIPE_1\u0027,\n u\u0027EMPLOYEEATTRITION\u0027,\n u\u0027FRAUDULENTFIREINSURANCECLAIMS\u0027,\n u\u0027HOSPITALREADMISSIONS\u0027,\n u\u0027LOANDEFAULTNEW\u0027,\n u\u0027LOANDEFAULTSNOWFLAKE\u0027,\n u\u0027MA\u0027,\n u\u0027MARKETINGCAMPAIGN\u0027,\n u\u0027MONITORING\u0027,\n u\u0027PARTITIONING\u0027,\n u\u0027PORTFOLIO\u0027,\n u\u0027PREDICTIVEMAINTENANCE_AZ\u0027,\n u\u0027RECIPE_REVIEW_PREDICTION_WEBINAR\u0027,\n u\u0027SCOTCHWHISKYCLUSTERING\u0027,\n u\u0027SINGLESTORESALESFORECAST\u0027,\n u\u0027STUDENTLOANSREPAYMENT\u0027,\n u\u0027SV_CDS\u0027,\n u\u0027TELSTRA4\u0027,\n u\u0027TIMESERIESBASIC\u0027,\n u\u0027TRADEBREAKS\u0027,\n u\u0027TRINITYSOLARWORK\u0027]"
          },
          "output_type": "execute_result"
        }
      ]
    },
    {
      "execution_count": 0,
      "cell_type": "code",
      "metadata": {},
      "source": [
        "##my adittion"
      ],
      "outputs": []
    },
    {
      "execution_count": 0,
      "cell_type": "code",
      "metadata": {},
      "source": [
        ""
      ],
      "outputs": []
    }
  ]
}